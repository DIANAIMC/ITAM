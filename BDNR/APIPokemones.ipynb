{
 "cells": [
  {
   "cell_type": "code",
   "execution_count": 1,
   "id": "e637536b",
   "metadata": {},
   "outputs": [
    {
     "data": {
      "text/plain": [
       "<pymongo.results.InsertManyResult at 0x25d23fe2940>"
      ]
     },
     "execution_count": 1,
     "metadata": {},
     "output_type": "execute_result"
    }
   ],
   "source": [
    "import requests\n",
    "import json \n",
    "from pymongo import MongoClient\n",
    "\n",
    "#lista donde se van a guardar los pokemones cuando hagamos el get de la api\n",
    "pokemon=[]\n",
    "#inicializamos MongoClient\n",
    "client = MongoClient()\n",
    "#indicamos el servidor (este es el casi siempre se usa)\n",
    "client = MongoClient('localhost',27017)\n",
    "#NOTA: También se puede escribir de la siguiente manera\n",
    "# client = MongoClient('mongodb://0.0.0.0:27017')\n",
    "# Los ceros indica que acceda a la propia computadora. Incluso conviene más\n",
    "\n",
    "#indicamos el nombre de nuestra base de datos (si no existe, la crea)\n",
    "mydatabase = client.pokemon_api\n",
    "#lo mismo, pero con la colección\n",
    "mycollection = mydatabase.pokemones\n",
    "#vamos a iterar 150 veces para agregar 150 pokemones\n",
    "#nótese que empezamos en 1 porque usamos la variable i para consultar el id y este no comienza en 0\n",
    "for i in range(1,151):\n",
    "    #aquí usamos la api usando un 'get'\n",
    "    r = requests.get(f'https://pokeapi.co/api/v2/pokemon/{i}')\n",
    "    #convertimos el texto a un json (aunque ya tenga la estructura la respuesta python de entrada no lo lee como tal)\n",
    "    data=json.loads(r.text)\n",
    "    #Agregamos cada json (que es la info de cada pokemon) a nuestra lista pokemon\n",
    "    pokemon.append(data)\n",
    "\n",
    "#finalmente usamos la función 'insert_many' sobre mycollection que previamente inicializamos para insertar todos los \n",
    "# pokemones del arreglo\n",
    "mycollection.insert_many(pokemon)"
   ]
  },
  {
   "cell_type": "code",
   "execution_count": null,
   "id": "fa154ac1",
   "metadata": {
    "collapsed": true
   },
   "outputs": [],
   "source": []
  }
 ],
 "metadata": {
  "kernelspec": {
   "display_name": "Python 3 (ipykernel)",
   "language": "python",
   "name": "python3"
  },
  "language_info": {
   "codemirror_mode": {
    "name": "ipython",
    "version": 3
   },
   "file_extension": ".py",
   "mimetype": "text/x-python",
   "name": "python",
   "nbconvert_exporter": "python",
   "pygments_lexer": "ipython3",
   "version": "3.9.12"
  }
 },
 "nbformat": 4,
 "nbformat_minor": 5
}
