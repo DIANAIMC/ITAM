{
 "cells": [
  {
   "cell_type": "markdown",
   "metadata": {},
   "source": [
    "# Bayes ingenuo\n",
    "\n",
    "Este programa clasifica correos electrónicos como spam o ham utilizando el alrogítmo de bayes ingenuo."
   ]
  },
  {
   "cell_type": "code",
   "execution_count": 21,
   "metadata": {
    "vscode": {
     "languageId": "r"
    }
   },
   "outputs": [],
   "source": [
    "#\n",
    "usePackage <- function(p) \n",
    "{\n",
    "  if (!is.element(p, installed.packages()[,1]))\n",
    "    install.packages(p, repos = \"https://cran.itam.mx/\")\n",
    "  suppressPackageStartupMessages(require(p, character.only = TRUE, quietly  = TRUE))\n",
    "}"
   ]
  },
  {
   "cell_type": "code",
   "execution_count": 3,
   "metadata": {
    "vscode": {
     "languageId": "r"
    }
   },
   "outputs": [],
   "source": [
    "usePackage('R.utils')\n",
    "usePackage('tm')"
   ]
  },
  {
   "cell_type": "markdown",
   "metadata": {},
   "source": [
    "## Descarga los datos "
   ]
  },
  {
   "cell_type": "code",
   "execution_count": 4,
   "metadata": {
    "vscode": {
     "languageId": "r"
    }
   },
   "outputs": [],
   "source": [
    "download.mails <- function(url, dir_name, file_name){\n",
    "\n",
    "  if (!file.exists(dir_name)) {\n",
    "    dir.create(dir_name)  \n",
    "  }\n",
    "  \n",
    "  download.file(url, destfile=file.path(dir_name, paste0(file_name,\".tar.bz2\")) )\n",
    "  bunzip2(file.path(dir_name, paste0(file_name,\".tar.bz2\")))\n",
    "  \n",
    "  untar(file.path(dir_name, paste0(file_name,\".tar\")), exdir = dir_name)\n",
    "  \n",
    "  if (file.exists(file.path(dir_name, paste0(file_name,\".tar\")))) {\n",
    "    file.remove(file.path(dir_name, paste0(file_name,\".tar\")))\n",
    "  }\n",
    "  \n",
    "}"
   ]
  },
  {
   "cell_type": "code",
   "execution_count": 5,
   "metadata": {
    "vscode": {
     "languageId": "r"
    }
   },
   "outputs": [
    {
     "data": {
      "text/html": [
       "TRUE"
      ],
      "text/latex": [
       "TRUE"
      ],
      "text/markdown": [
       "TRUE"
      ],
      "text/plain": [
       "[1] TRUE"
      ]
     },
     "metadata": {},
     "output_type": "display_data"
    }
   ],
   "source": [
    "dir_name <- \"data\"\n",
    "file_name <- \"easy_ham_2\"\n",
    "url <- \"http://spamassassin.apache.org/old/publiccorpus/20030228_easy_ham_2.tar.bz2\"\n",
    "\n",
    "download.mails(url, dir_name, file_name)"
   ]
  },
  {
   "cell_type": "code",
   "execution_count": 6,
   "metadata": {
    "vscode": {
     "languageId": "r"
    }
   },
   "outputs": [
    {
     "data": {
      "text/html": [
       "TRUE"
      ],
      "text/latex": [
       "TRUE"
      ],
      "text/markdown": [
       "TRUE"
      ],
      "text/plain": [
       "[1] TRUE"
      ]
     },
     "metadata": {},
     "output_type": "display_data"
    }
   ],
   "source": [
    "url <- \"http://spamassassin.apache.org/old/publiccorpus/20030228_hard_ham.tar.bz2\"\n",
    "file_name <- \"hard_ham\"\n",
    "\n",
    "download.mails(url, dir_name, file_name)"
   ]
  },
  {
   "cell_type": "code",
   "execution_count": 7,
   "metadata": {
    "vscode": {
     "languageId": "r"
    }
   },
   "outputs": [
    {
     "data": {
      "text/html": [
       "TRUE"
      ],
      "text/latex": [
       "TRUE"
      ],
      "text/markdown": [
       "TRUE"
      ],
      "text/plain": [
       "[1] TRUE"
      ]
     },
     "metadata": {},
     "output_type": "display_data"
    }
   ],
   "source": [
    "url <- \"http://spamassassin.apache.org/old/publiccorpus/20030228_spam_2.tar.bz2\"\n",
    "file_name <- \"spam_2\"\n",
    "\n",
    "download.mails(url, dir_name, file_name)"
   ]
  },
  {
   "cell_type": "markdown",
   "metadata": {},
   "source": [
    "## Preprocesamiento de los correos electrónicos"
   ]
  },
  {
   "cell_type": "code",
   "execution_count": 8,
   "metadata": {
    "vscode": {
     "languageId": "r"
    }
   },
   "outputs": [],
   "source": [
    "# Hacemos una función que leea el mensaje del archivo que se le pase como parámetro\n",
    "# asumimos que el archivo contiene un correo\n",
    "\n",
    "lee_mensaje <- function(correo) {\n",
    "  fd <- file(correo, open = \"rt\")\n",
    "  lineas <- readLines(fd, warn=FALSE)\n",
    "  close(fd)\n",
    "  mensaje <- lineas[seq(which(lineas == \"\")[1] + 1, length(lineas), 1)]\n",
    "  return (paste(mensaje, collapse = \"\\n\"))\n",
    "}"
   ]
  },
  {
   "cell_type": "code",
   "execution_count": 9,
   "metadata": {
    "vscode": {
     "languageId": "r"
    }
   },
   "outputs": [],
   "source": [
    "# Creamos variables con los directorios donde se encuentran los datos\n",
    "trayectoria_spam     <- file.path(dir_name, \"spam_2\")\n",
    "trayectoria_easyham  <- file.path(dir_name, \"easy_ham_2\")\n",
    "trayectoria_hardham  <- file.path(dir_name, \"hard_ham\")"
   ]
  },
  {
   "cell_type": "markdown",
   "metadata": {},
   "source": [
    "### Spam"
   ]
  },
  {
   "cell_type": "code",
   "execution_count": 10,
   "metadata": {
    "vscode": {
     "languageId": "r"
    }
   },
   "outputs": [],
   "source": [
    "# Leemos el directorio donde se encuentran los correos clasificados como spam\n",
    "archivos_correos_spam <- dir(trayectoria_spam)\n",
    "\n",
    "# quitamos el guión llamado cmds\n",
    "archivos_correos_spam <- archivos_correos_spam[which(archivos_correos_spam!=\"cmds\")] #[1:250]\n",
    "\n",
    "archivos_correos_spam <- archivos_correos_spam[sample(1:length(archivos_correos_spam))]\n",
    "archivos_correos_spam_training <- archivos_correos_spam[1:1000]\n",
    "archivos_correos_spam_testing <- archivos_correos_spam[1001:length(archivos_correos_spam)]\n",
    "\n",
    "todo_spam <- sapply(archivos_correos_spam_training,\n",
    "                   function(p) lee_mensaje(file.path(trayectoria_spam, p)))\n",
    "                    \n",
    "todo_spam <- enc2utf8(todo_spam)"
   ]
  },
  {
   "cell_type": "markdown",
   "metadata": {},
   "source": [
    "### Easy ham"
   ]
  },
  {
   "cell_type": "code",
   "execution_count": 11,
   "metadata": {
    "vscode": {
     "languageId": "r"
    }
   },
   "outputs": [],
   "source": [
    "# Leemos el directorio donde se encuentran los correos clasificados como ham fácilmente identificables\n",
    "archivos_correos_easy_ham <- dir(trayectoria_easyham)\n",
    "\n",
    "# quitamos el guión llamado cmds\n",
    "archivos_correos_easy_ham <- archivos_correos_easy_ham[which(archivos_correos_easy_ham!=\"cmds\")] #[1:250]\n",
    "\n",
    "archivos_correos_easy_ham <- archivos_correos_easy_ham[sample(1:length(archivos_correos_easy_ham))]\n",
    "archivos_correos_easy_ham_training <- archivos_correos_easy_ham[1:1000]\n",
    "archivos_correos_easy_ham_testing <- archivos_correos_easy_ham[1001:length(archivos_correos_easy_ham)]\n",
    "\n",
    "todo_easy_ham <- sapply(archivos_correos_easy_ham_training,\n",
    "                    function(p) lee_mensaje(file.path(trayectoria_easyham, p)))\n",
    "\n",
    "todo_easy_ham <- enc2utf8(todo_easy_ham)"
   ]
  },
  {
   "cell_type": "markdown",
   "metadata": {},
   "source": [
    "## Preparación de corpus y bolsa de palabras"
   ]
  },
  {
   "cell_type": "code",
   "execution_count": 12,
   "metadata": {
    "vscode": {
     "languageId": "r"
    }
   },
   "outputs": [],
   "source": [
    "obtiene_TermDocumentMatrix <- function (vector_correos) {\n",
    "  control <- list(stopwords = TRUE,\n",
    "                removePunctuation = TRUE,\n",
    "                removeNumbers = TRUE,\n",
    "                minDocFreq = 2)\n",
    "  corpus <- Corpus(VectorSource(vector_correos))\n",
    "  return(TermDocumentMatrix(corpus, control))\n",
    "}"
   ]
  },
  {
   "cell_type": "markdown",
   "metadata": {},
   "source": [
    "### Spam"
   ]
  },
  {
   "cell_type": "code",
   "execution_count": 13,
   "metadata": {
    "vscode": {
     "languageId": "r"
    }
   },
   "outputs": [],
   "source": [
    "spam_TDM <- obtiene_TermDocumentMatrix(todo_spam)\n",
    "\n",
    "# Crea un data frame que provee el conjunto de caracteristicas de los datos de entrenamiento SPAM\n",
    "matriz_spam <- as.matrix(spam_TDM)\n",
    "\n",
    "conteos_spam <- rowSums(matriz_spam)\n",
    "df_spam <- data.frame(cbind(names(conteos_spam),\n",
    "                            as.numeric(conteos_spam)),\n",
    "                      stringsAsFactors = FALSE)\n",
    "names(df_spam) <- c(\"terminos\", \"frecuencia\")\n",
    "df_spam$frecuencia <- as.numeric(df_spam$frecuencia)\n",
    "ocurrencias_spam <- sapply(1:nrow(matriz_spam),\n",
    "                          function(i) # Obtiene la proporcion de documentos que contiene cada palabra\n",
    "                          {\n",
    "                            length(which(matriz_spam[i, ] > 0)) / ncol(matriz_spam)\n",
    "                          })\n",
    "densidad_spam <- df_spam$frecuencia/sum(df_spam$frecuencia,na.rm = TRUE)\n",
    "\n",
    "df_spam <- transform(df_spam,\n",
    "                     densidad = densidad_spam,\n",
    "                     ocurrencias = ocurrencias_spam)"
   ]
  },
  {
   "cell_type": "code",
   "execution_count": 14,
   "metadata": {
    "vscode": {
     "languageId": "r"
    }
   },
   "outputs": [
    {
     "data": {
      "text/html": [
       "<table class=\"dataframe\">\n",
       "<caption>A data.frame: 6 × 4</caption>\n",
       "<thead>\n",
       "\t<tr><th></th><th scope=col>terminos</th><th scope=col>frecuencia</th><th scope=col>densidad</th><th scope=col>ocurrencias</th></tr>\n",
       "\t<tr><th></th><th scope=col>&lt;chr&gt;</th><th scope=col>&lt;dbl&gt;</th><th scope=col>&lt;dbl&gt;</th><th scope=col>&lt;dbl&gt;</th></tr>\n",
       "</thead>\n",
       "<tbody>\n",
       "\t<tr><th scope=row>1</th><td>advantage</td><td>  46</td><td>1.621248e-04</td><td>0.036</td></tr>\n",
       "\t<tr><th scope=row>2</th><td>allowed  </td><td>   5</td><td>1.762226e-05</td><td>0.005</td></tr>\n",
       "\t<tr><th scope=row>3</th><td>animal   </td><td>   5</td><td>1.762226e-05</td><td>0.004</td></tr>\n",
       "\t<tr><th scope=row>4</th><td>arial    </td><td>1111</td><td>3.915667e-03</td><td>0.133</td></tr>\n",
       "\t<tr><th scope=row>5</th><td>attract  </td><td>   9</td><td>3.172007e-05</td><td>0.005</td></tr>\n",
       "\t<tr><th scope=row>6</th><td>attracta </td><td>   1</td><td>3.524453e-06</td><td>0.001</td></tr>\n",
       "</tbody>\n",
       "</table>\n"
      ],
      "text/latex": [
       "A data.frame: 6 × 4\n",
       "\\begin{tabular}{r|llll}\n",
       "  & terminos & frecuencia & densidad & ocurrencias\\\\\n",
       "  & <chr> & <dbl> & <dbl> & <dbl>\\\\\n",
       "\\hline\n",
       "\t1 & advantage &   46 & 1.621248e-04 & 0.036\\\\\n",
       "\t2 & allowed   &    5 & 1.762226e-05 & 0.005\\\\\n",
       "\t3 & animal    &    5 & 1.762226e-05 & 0.004\\\\\n",
       "\t4 & arial     & 1111 & 3.915667e-03 & 0.133\\\\\n",
       "\t5 & attract   &    9 & 3.172007e-05 & 0.005\\\\\n",
       "\t6 & attracta  &    1 & 3.524453e-06 & 0.001\\\\\n",
       "\\end{tabular}\n"
      ],
      "text/markdown": [
       "\n",
       "A data.frame: 6 × 4\n",
       "\n",
       "| <!--/--> | terminos &lt;chr&gt; | frecuencia &lt;dbl&gt; | densidad &lt;dbl&gt; | ocurrencias &lt;dbl&gt; |\n",
       "|---|---|---|---|---|\n",
       "| 1 | advantage |   46 | 1.621248e-04 | 0.036 |\n",
       "| 2 | allowed   |    5 | 1.762226e-05 | 0.005 |\n",
       "| 3 | animal    |    5 | 1.762226e-05 | 0.004 |\n",
       "| 4 | arial     | 1111 | 3.915667e-03 | 0.133 |\n",
       "| 5 | attract   |    9 | 3.172007e-05 | 0.005 |\n",
       "| 6 | attracta  |    1 | 3.524453e-06 | 0.001 |\n",
       "\n"
      ],
      "text/plain": [
       "  terminos  frecuencia densidad     ocurrencias\n",
       "1 advantage   46       1.621248e-04 0.036      \n",
       "2 allowed      5       1.762226e-05 0.005      \n",
       "3 animal       5       1.762226e-05 0.004      \n",
       "4 arial     1111       3.915667e-03 0.133      \n",
       "5 attract      9       3.172007e-05 0.005      \n",
       "6 attracta     1       3.524453e-06 0.001      "
      ]
     },
     "metadata": {},
     "output_type": "display_data"
    }
   ],
   "source": [
    "head(df_spam)"
   ]
  },
  {
   "cell_type": "markdown",
   "metadata": {},
   "source": [
    "### Easy ham"
   ]
  },
  {
   "cell_type": "code",
   "execution_count": 15,
   "metadata": {
    "vscode": {
     "languageId": "r"
    }
   },
   "outputs": [],
   "source": [
    "easy_ham_TDM <- obtiene_TermDocumentMatrix(todo_easy_ham)\n",
    "\n",
    "# Crea un data frame que provee el conjunto de caracteristicas de los datos de entrenamiento easy ham\n",
    "matriz_easy_ham <- as.matrix(easy_ham_TDM)\n",
    "\n",
    "conteos_easy_ham <- rowSums(matriz_easy_ham)\n",
    "df_easy_ham <- data.frame(cbind(names(conteos_easy_ham),\n",
    "                            as.numeric(conteos_easy_ham)),\n",
    "                      stringsAsFactors = FALSE)\n",
    "names(df_easy_ham) <- c(\"terminos\", \"frecuencia\")\n",
    "df_easy_ham$frecuencia <- as.numeric(df_easy_ham$frecuencia)\n",
    "ocurrencias_easy_ham <- sapply(1:nrow(matriz_easy_ham),\n",
    "                           function(i) # Obtiene la proporcion de documentos que contiene cada palabra\n",
    "                           {\n",
    "                             length(which(matriz_easy_ham[i, ] > 0)) / ncol(matriz_easy_ham)\n",
    "                           })\n",
    "densidad_easy_ham <- df_easy_ham$frecuencia/sum(df_easy_ham$frecuencia,na.rm = TRUE)\n",
    "\n",
    "df_easy_ham <- transform(df_easy_ham,\n",
    "                     densidad = densidad_easy_ham,\n",
    "                     ocurrencias = ocurrencias_easy_ham)"
   ]
  },
  {
   "cell_type": "code",
   "execution_count": 22,
   "metadata": {
    "vscode": {
     "languageId": "r"
    }
   },
   "outputs": [
    {
     "data": {
      "text/html": [
       "<table class=\"dataframe\">\n",
       "<caption>A data.frame: 6 × 4</caption>\n",
       "<thead>\n",
       "\t<tr><th></th><th scope=col>terminos</th><th scope=col>frecuencia</th><th scope=col>densidad</th><th scope=col>ocurrencias</th></tr>\n",
       "\t<tr><th></th><th scope=col>&lt;chr&gt;</th><th scope=col>&lt;dbl&gt;</th><th scope=col>&lt;dbl&gt;</th><th scope=col>&lt;dbl&gt;</th></tr>\n",
       "</thead>\n",
       "<tbody>\n",
       "\t<tr><th scope=row>1</th><td>anything  </td><td> 73</td><td>5.327767e-04</td><td>0.065</td></tr>\n",
       "\t<tr><th scope=row>2</th><td>anyway    </td><td> 59</td><td>4.306004e-04</td><td>0.053</td></tr>\n",
       "\t<tr><th scope=row>3</th><td>around    </td><td>135</td><td>9.852720e-04</td><td>0.105</td></tr>\n",
       "\t<tr><th scope=row>4</th><td>aug       </td><td>248</td><td>1.809981e-03</td><td>0.196</td></tr>\n",
       "\t<tr><th scope=row>5</th><td>autodetect</td><td>  3</td><td>2.189493e-05</td><td>0.002</td></tr>\n",
       "\t<tr><th scope=row>6</th><td>boot      </td><td> 94</td><td>6.860413e-04</td><td>0.043</td></tr>\n",
       "</tbody>\n",
       "</table>\n"
      ],
      "text/latex": [
       "A data.frame: 6 × 4\n",
       "\\begin{tabular}{r|llll}\n",
       "  & terminos & frecuencia & densidad & ocurrencias\\\\\n",
       "  & <chr> & <dbl> & <dbl> & <dbl>\\\\\n",
       "\\hline\n",
       "\t1 & anything   &  73 & 5.327767e-04 & 0.065\\\\\n",
       "\t2 & anyway     &  59 & 4.306004e-04 & 0.053\\\\\n",
       "\t3 & around     & 135 & 9.852720e-04 & 0.105\\\\\n",
       "\t4 & aug        & 248 & 1.809981e-03 & 0.196\\\\\n",
       "\t5 & autodetect &   3 & 2.189493e-05 & 0.002\\\\\n",
       "\t6 & boot       &  94 & 6.860413e-04 & 0.043\\\\\n",
       "\\end{tabular}\n"
      ],
      "text/markdown": [
       "\n",
       "A data.frame: 6 × 4\n",
       "\n",
       "| <!--/--> | terminos &lt;chr&gt; | frecuencia &lt;dbl&gt; | densidad &lt;dbl&gt; | ocurrencias &lt;dbl&gt; |\n",
       "|---|---|---|---|---|\n",
       "| 1 | anything   |  73 | 5.327767e-04 | 0.065 |\n",
       "| 2 | anyway     |  59 | 4.306004e-04 | 0.053 |\n",
       "| 3 | around     | 135 | 9.852720e-04 | 0.105 |\n",
       "| 4 | aug        | 248 | 1.809981e-03 | 0.196 |\n",
       "| 5 | autodetect |   3 | 2.189493e-05 | 0.002 |\n",
       "| 6 | boot       |  94 | 6.860413e-04 | 0.043 |\n",
       "\n"
      ],
      "text/plain": [
       "  terminos   frecuencia densidad     ocurrencias\n",
       "1 anything    73        5.327767e-04 0.065      \n",
       "2 anyway      59        4.306004e-04 0.053      \n",
       "3 around     135        9.852720e-04 0.105      \n",
       "4 aug        248        1.809981e-03 0.196      \n",
       "5 autodetect   3        2.189493e-05 0.002      \n",
       "6 boot        94        6.860413e-04 0.043      "
      ]
     },
     "metadata": {},
     "output_type": "display_data"
    }
   ],
   "source": [
    "head(df_easy_ham)"
   ]
  },
  {
   "cell_type": "markdown",
   "metadata": {},
   "source": [
    "## Cálculo de probabilidad a posteriori"
   ]
  },
  {
   "cell_type": "code",
   "execution_count": 16,
   "metadata": {
    "vscode": {
     "languageId": "r"
    }
   },
   "outputs": [],
   "source": [
    "a_posteriori <- function(trayectoria, df_entrenamiento, a_priori = 0.5, c = 1e-6)\n",
    "{\n",
    "  mensaje <- lee_mensaje(trayectoria)\n",
    "  mensaje <- enc2utf8(mensaje)\n",
    "  mensaje_TDM <- obtiene_TermDocumentMatrix(mensaje)\n",
    "  conteos_mensaje <- rowSums(as.matrix(mensaje_TDM))\n",
    "\n",
    "  # Encuentra palabras en data frame de entrenamiento\n",
    "  mensaje_palabras_comunes <- intersect(names(conteos_mensaje), df_entrenamiento$terminos)\n",
    "  \n",
    "  # Ahora sólo aplicamos la clasificación Bayes ingenuo\n",
    "  if(length(mensaje_palabras_comunes) < 1)\n",
    "  {\n",
    "    #return(a_priori * c ^ (length(conteos_mensaje)))\n",
    "    return(log(a_priori) + (length(conteos_mensaje)) *log(c))\n",
    "  }\n",
    "  else\n",
    "  {\n",
    "    probabilidades_palabras_comunes <- df_entrenamiento$densidad[match(mensaje_palabras_comunes, df_entrenamiento$terminos)]\n",
    "    #return(a_priori * prod(probabilidades_palabras_comunes) * c ^ (length(conteos_mensaje) - length(mensaje_palabras_comunes)))\n",
    "    return(log(a_priori) + sum(log(probabilidades_palabras_comunes)) + log(c) * (length(conteos_mensaje) - length(mensaje_palabras_comunes)))\n",
    "  }\n",
    "}"
   ]
  },
  {
   "cell_type": "markdown",
   "metadata": {},
   "source": [
    "## Clasificación"
   ]
  },
  {
   "cell_type": "code",
   "execution_count": 17,
   "metadata": {
    "vscode": {
     "languageId": "r"
    }
   },
   "outputs": [],
   "source": [
    "clasifica_spam <- function(trayectoria, archivos) {\n",
    "\n",
    "  hard_ham_spam_prueba <- sapply(archivos,\n",
    "                             function(p) a_posteriori(file.path(trayectoria, p), df_entrenamiento = df_spam))\n",
    "  hard_ham_ham_prueba <- sapply(archivos,\n",
    "                            function(p) a_posteriori(file.path(trayectoria, p), df_entrenamiento = df_easy_ham))\n",
    "  \n",
    "  return (ifelse(hard_ham_spam_prueba > hard_ham_ham_prueba,\n",
    "                        TRUE,\n",
    "                        FALSE))\n",
    "}"
   ]
  },
  {
   "cell_type": "markdown",
   "metadata": {},
   "source": [
    "### Hard ham"
   ]
  },
  {
   "cell_type": "code",
   "execution_count": 18,
   "metadata": {
    "vscode": {
     "languageId": "r"
    }
   },
   "outputs": [],
   "source": [
    "# Leemos el directorio donde se encuentran los correos clasificados como ham dificlmente identificables\n",
    "archivos_correos_hard_ham <- dir(trayectoria_hardham)\n",
    "\n",
    "# quitamos el guión llamado cmds\n",
    "archivos_correos_hard_ham <- archivos_correos_hard_ham[which(archivos_correos_hard_ham!=\"cmds\")]"
   ]
  },
  {
   "cell_type": "code",
   "execution_count": 19,
   "metadata": {
    "vscode": {
     "languageId": "r"
    }
   },
   "outputs": [],
   "source": [
    "hard_ham_res <- clasifica_spam(trayectoria_hardham, archivos_correos_hard_ham)\n",
    "easy_ham_res <- clasifica_spam(trayectoria_easyham, archivos_correos_easy_ham_testing)\n",
    "spam_res     <- clasifica_spam(trayectoria_spam,    archivos_correos_spam_testing)"
   ]
  },
  {
   "cell_type": "markdown",
   "metadata": {},
   "source": [
    "## Resultados"
   ]
  },
  {
   "cell_type": "code",
   "execution_count": 20,
   "metadata": {
    "vscode": {
     "languageId": "r"
    }
   },
   "outputs": [
    {
     "data": {
      "text/plain": [
       "   Mode   FALSE    TRUE \n",
       "logical     399       1 "
      ]
     },
     "metadata": {},
     "output_type": "display_data"
    },
    {
     "data": {
      "text/plain": [
       "   Mode   FALSE    TRUE \n",
       "logical      19     378 "
      ]
     },
     "metadata": {},
     "output_type": "display_data"
    },
    {
     "data": {
      "text/plain": [
       "   Mode   FALSE    TRUE \n",
       "logical     106     144 "
      ]
     },
     "metadata": {},
     "output_type": "display_data"
    }
   ],
   "source": [
    "summary(easy_ham_res)\n",
    "summary(spam_res)\n",
    "summary(hard_ham_res)"
   ]
  }
 ],
 "metadata": {
  "kernelspec": {
   "display_name": "R",
   "language": "R",
   "name": "ir"
  },
  "language_info": {
   "codemirror_mode": "r",
   "file_extension": ".r",
   "mimetype": "text/x-r-source",
   "name": "R",
   "pygments_lexer": "r",
   "version": "4.2.2"
  },
  "vscode": {
   "interpreter": {
    "hash": "c192ad59f23746050272a7894c18866dae20275651c22c73a9cf6431385d04d9"
   }
  }
 },
 "nbformat": 4,
 "nbformat_minor": 2
}
