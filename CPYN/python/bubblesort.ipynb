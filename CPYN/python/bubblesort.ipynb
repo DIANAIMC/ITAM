{
 "cells": [
  {
   "cell_type": "code",
   "execution_count": 7,
   "metadata": {},
   "outputs": [],
   "source": [
    "import numpy as np\n",
    "from numba import jit"
   ]
  },
  {
   "attachments": {},
   "cell_type": "markdown",
   "metadata": {},
   "source": [
    "#### Serial"
   ]
  },
  {
   "cell_type": "code",
   "execution_count": 8,
   "metadata": {},
   "outputs": [],
   "source": [
    "def ordenamiento_burbuja(arreglo):\n",
    "  for pos_final in range(len(arreglo), 1, -1):\n",
    "    for i in range(pos_final - 1):\n",
    "      if arreglo[i] > arreglo[i + 1]:\n",
    "        tmp = arreglo[i]\n",
    "        arreglo[i] = arreglo[i+1]\n",
    "        arreglo[i+1] = tmp\n"
   ]
  },
  {
   "attachments": {},
   "cell_type": "markdown",
   "metadata": {},
   "source": [
    "#### Paralelo"
   ]
  },
  {
   "cell_type": "code",
   "execution_count": 10,
   "metadata": {},
   "outputs": [],
   "source": [
    "@jit\n",
    "def ordenamiento_burbuja_numba(arreglo):\n",
    "  for pos_final in range(len(arreglo), 1, -1):\n",
    "    for i in range(pos_final - 1):\n",
    "      if arreglo[i] > arreglo[i + 1]:\n",
    "        tmp = arreglo[i]\n",
    "        arreglo[i] = arreglo[i+1]\n",
    "        arreglo[i+1] = tmp\n"
   ]
  },
  {
   "cell_type": "code",
   "execution_count": 12,
   "metadata": {},
   "outputs": [
    {
     "name": "stdout",
     "output_type": "stream",
     "text": [
      "117 ms ± 2.72 ms per loop (mean ± std. dev. of 10 runs, 30 loops each)\n",
      "717 µs ± 39.7 µs per loop (mean ± std. dev. of 10 runs, 30 loops each)\n",
      "The slowest run took 90.10 times longer than the fastest. This could mean that an intermediate result is being cached.\n",
      "344 µs ± 889 µs per loop (mean ± std. dev. of 10 runs, 30 loops each)\n"
     ]
    }
   ],
   "source": [
    "%timeit -r 10 -n 30 arreglo1 = np.random.rand(1000); ordenamiento_burbuja(arreglo1)\n",
    "\n",
    "%timeit -r 10 -n 30 arreglo2 = np.random.rand(1000); ordenamiento_burbuja_numba(arreglo2)\n",
    "\n",
    "%timeit -r 10 -n 30 arreglo3 = np.random.rand(1000); arreglo3.sort()"
   ]
  },
  {
   "cell_type": "code",
   "execution_count": 14,
   "metadata": {},
   "outputs": [],
   "source": [
    "from numba import vectorize, float64"
   ]
  },
  {
   "cell_type": "code",
   "execution_count": 15,
   "metadata": {},
   "outputs": [],
   "source": [
    "@vectorize([float64(float64, float64)])\n",
    "def suma(a, b):\n",
    "    return a + b \n",
    "\n",
    "def sum(a, b):\n",
    "    return a + b"
   ]
  }
 ],
 "metadata": {
  "kernelspec": {
   "display_name": "Python 3",
   "language": "python",
   "name": "python3"
  },
  "language_info": {
   "codemirror_mode": {
    "name": "ipython",
    "version": 3
   },
   "file_extension": ".py",
   "mimetype": "text/x-python",
   "name": "python",
   "nbconvert_exporter": "python",
   "pygments_lexer": "ipython3",
   "version": "3.9.13 (tags/v3.9.13:6de2ca5, May 17 2022, 16:36:42) [MSC v.1929 64 bit (AMD64)]"
  },
  "orig_nbformat": 4,
  "vscode": {
   "interpreter": {
    "hash": "15b0b646c21b8f80a20ac3ca0b6c440335a0ab8e0aad88dec1cfe0fc1eea5a42"
   }
  }
 },
 "nbformat": 4,
 "nbformat_minor": 2
}
