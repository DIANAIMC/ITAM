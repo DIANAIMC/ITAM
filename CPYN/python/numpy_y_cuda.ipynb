{
 "cells": [
  {
   "cell_type": "code",
   "execution_count": 3,
   "metadata": {},
   "outputs": [],
   "source": [
    "import numpy as np\n",
    "from numba import cuda"
   ]
  },
  {
   "cell_type": "code",
   "execution_count": 1,
   "metadata": {},
   "outputs": [
    {
     "ename": "NameError",
     "evalue": "name 'cuda' is not defined",
     "output_type": "error",
     "traceback": [
      "\u001b[1;31m---------------------------------------------------------------------------\u001b[0m",
      "\u001b[1;31mNameError\u001b[0m                                 Traceback (most recent call last)",
      "Cell \u001b[1;32mIn[1], line 1\u001b[0m\n\u001b[1;32m----> 1\u001b[0m \u001b[39mprint\u001b[39m(cuda\u001b[39m.\u001b[39mgpus)\n\u001b[0;32m      2\u001b[0m \u001b[39mprint\u001b[39m(cuda\u001b[39m.\u001b[39mdetect())\n\u001b[0;32m      3\u001b[0m cuda\u001b[39m.\u001b[39mselect_device(\u001b[39m0\u001b[39m)\n",
      "\u001b[1;31mNameError\u001b[0m: name 'cuda' is not defined"
     ]
    }
   ],
   "source": [
    "print(cuda.gpus)\n",
    "print(cuda.detect())\n",
    "cuda.select_device(0)\n",
    "\n",
    "@cuda.jit\n",
    "def un_kernel(x, y, out):\n",
    "    \"\"\"\n",
    "    Esto es un kernel de dos variables de entrada \"x\" e \"y\"\n",
    "    y una variable de salida out\n",
    "    \"\"\"\n",
    "    pass\n",
    "\n",
    "x = np.ones(256)\n",
    "y = x * 2\n",
    "out = np.empty_like(x)\n",
    "\n",
    "threads_per_block = 12"
   ]
  }
 ],
 "metadata": {
  "kernelspec": {
   "display_name": "Python 3",
   "language": "python",
   "name": "python3"
  },
  "language_info": {
   "codemirror_mode": {
    "name": "ipython",
    "version": 3
   },
   "file_extension": ".py",
   "mimetype": "text/x-python",
   "name": "python",
   "nbconvert_exporter": "python",
   "pygments_lexer": "ipython3",
   "version": "3.9.13 (tags/v3.9.13:6de2ca5, May 17 2022, 16:36:42) [MSC v.1929 64 bit (AMD64)]"
  },
  "orig_nbformat": 4,
  "vscode": {
   "interpreter": {
    "hash": "15b0b646c21b8f80a20ac3ca0b6c440335a0ab8e0aad88dec1cfe0fc1eea5a42"
   }
  }
 },
 "nbformat": 4,
 "nbformat_minor": 2
}
