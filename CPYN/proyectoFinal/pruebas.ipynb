{
 "cells": [
  {
   "cell_type": "code",
   "execution_count": 4,
   "metadata": {},
   "outputs": [],
   "source": [
    "import pandas as pd\n",
    "import numpy as np\n",
    "import re\n",
    "import matplotlib.pyplot as plt\n",
    "import os\n",
    "import string\n",
    "import csv\n",
    "\n",
    "etiquetas = [\"libro1\", \n",
    "             \"libro2\", \n",
    "             \"libro3\", \n",
    "             \"libro4\", \n",
    "             \"libro5\",\n",
    "             \"libro6\"]\n",
    "corpus = []\n",
    "\n",
    "def remove_words(text, words):\n",
    "    text = re.sub(r'[^a-zA-Z0-9]', ' ', text)\n",
    "    text_words = text.split(',')\n",
    "    text_words = [w for w in text_words if w not in words]\n",
    "    text = ' '.join(text_words)\n",
    "    return text\n",
    "\n",
    "if __name__ == \"__main__\":\n",
    "    directorio_actual = os.getcwd()\n",
    "    #os.chdir(f'{directorio_actual}/data')\n",
    "    with open('stopwords.txt', 'r') as f:\n",
    "        stopwords = f.read().split()\n",
    "    for etiqueta in etiquetas:\n",
    "        archivo = open(etiqueta + \".txt\", \"r\", encoding=\"utf-8\")\n",
    "        libro = archivo.read()\n",
    "        archivo.close()\n",
    "        libro_filtrado = remove_words(libro.lower(), stopwords)\n",
    "        corpus.append(libro_filtrado)\n",
    "        with open(f\"\"\"{etiqueta}.csv\"\"\", 'w', newline='') as file:\n",
    "            writer = csv.writer(file)\n",
    "            writer.writerow(libro_filtrado.split())  # Divide el texto filtrado en palabras utilizando la coma como delimitador\n",
    "\n",
    "\n",
    "    corpus = np.array(corpus)\n",
    "    df_corpus = pd.DataFrame({\"documento\": corpus, \n",
    "                            \"categoria\": etiquetas})\n",
    "    todas_las_palabras = set(\" \".join(df_corpus[\"documento\"]).split())\n",
    "    todas_las_palabras = list(todas_las_palabras)\n",
    "    with open('palabras.csv', 'w', newline='') as file:\n",
    "        writer = csv.writer(file)\n",
    "        writer.writerow(todas_las_palabras) "
   ]
  },
  {
   "cell_type": "code",
   "execution_count": 7,
   "metadata": {},
   "outputs": [
    {
     "name": "stdout",
     "output_type": "stream",
     "text": [
      "Los resultados son diferentes.\n"
     ]
    },
    {
     "data": {
      "image/png": "[encoded data removed]",
      "text/plain": [
       "<Figure size 640x480 with 1 Axes>"
      ]
     },
     "metadata": {},
     "output_type": "display_data"
    }
   ],
   "source": [
    "import sys\n",
    "import os\n",
    "import matplotlib.pyplot as plt\n",
    "\n",
    "def procesar_archivo(nombre_archivo):\n",
    "    with open(nombre_archivo, 'r') as archivo:\n",
    "        primera_linea = archivo.readline()\n",
    "        numero = float(primera_linea.strip())\n",
    "    return numero\n",
    "\n",
    "if __name__ == \"__main__\":\n",
    "    os.chdir(f'{directorio_actual}/data')\n",
    "    \n",
    "    # Carga los resultados CSV en DataFrames de pandas\n",
    "    df1 = pd.read_csv(\"resultados_paralelo.csv\")\n",
    "    df2 = pd.read_csv(\"resultados_serial.csv\")\n",
    "    iguales = df1.equals(df2)\n",
    "    if iguales:\n",
    "        print(\"Los resultados son iguales.\")\n",
    "    else:\n",
    "        print(\"Los resultados son diferentes.\")\n",
    "    \n",
    "    # Graficamos\n",
    "    # Graficamos\n",
    "    nombre_archivo_serial = 'tiempo_serial.csv'\n",
    "    nombre_archivo_paralelo = 'tiempo_paralelo.csv'\n",
    "    resultado_serial = procesar_archivo(nombre_archivo_serial)\n",
    "    resultado_paralelo = procesar_archivo(nombre_archivo_paralelo)\n",
    "    valores = [resultado_serial, resultado_paralelo]\n",
    "    nombres = ['Serial', 'Paralelo']\n",
    "    fig, ax = plt.subplots()\n",
    "    ax.bar(nombres, valores, color=['#17becf', '#ff7f7f'])\n",
    "    ax.text(0.9, 0.9, \"El Speed-up fue de: \\n\"+str(resultado_serial/resultado_paralelo),\n",
    "             fontsize=9,transform=ax.transAxes,horizontalalignment='right', verticalalignment='top')\n",
    "    ax.set_title('Serial vs paralelo: tiempo cuenta palabras')\n",
    "    ax.set_xlabel('Tipo ejecución')\n",
    "    ax.set_ylabel('Tiempo en segundos')\n",
    "    # mostrar el gráfico\n",
    "    plt.show()\n"
   ]
  },
  {
   "cell_type": "code",
   "execution_count": 10,
   "metadata": {},
   "outputs": [
    {
     "name": "stdout",
     "output_type": "stream",
     "text": [
      "   enjoyable  platforme  diem  apoth  grinding  linstock  regulation   \n",
      "0          0          0     0      0         0         0           0  \\\n",
      "1          1          0     0      0         1         1           0   \n",
      "2          0          0     1      0         0         0           3   \n",
      "3          0          2     0      0         0         0           0   \n",
      "4          0          0     0      4         0         0           0   \n",
      "\n",
      "   unimpaire  sundry  barbarous  ...  worse  midnight  troth  boat  lure  hee   \n",
      "0          0       0          0  ...      1         1      0     1     0    0  \\\n",
      "1          0       2          4  ...      4         7      0     4     1    0   \n",
      "2          1       6          0  ...      7         8      0     2     0    0   \n",
      "3          0       0          0  ...      0         3      0     0     0   21   \n",
      "4          0       0          0  ...      0         1      2     0     1    0   \n",
      "\n",
      "   deduct  porpentine  charmingly  cramp  \n",
      "0       0           0           0      1  \n",
      "1       1           0           1      1  \n",
      "2       0           0           0      0  \n",
      "3       0           1           0      0  \n",
      "4       0           0           0      0  \n",
      "\n",
      "[5 rows x 15198 columns]\n"
     ]
    }
   ],
   "source": [
    "import pandas as pd\n",
    "\n",
    "# lee el archivo CSV y guarda los datos en un DataFrame\n",
    "dataframe = pd.read_csv('resultados_paralelo.csv')\n",
    "\n",
    "# muestra los primeros 5 registros del DataFrame\n",
    "print(dataframe.head())\n"
   ]
  },
  {
   "cell_type": "code",
   "execution_count": 11,
   "metadata": {},
   "outputs": [],
   "source": [
    "# selección de columnas utilizando loc[]\n",
    "df_filtrado = dataframe.loc[:, ['zonaprueba', 'zonaprueba_a', 'zonaprueba_b', 'zonaprueba_c', 'zonaprueba_d', 'zonaprueba_e', 'zonaprueba_f']]"
   ]
  },
  {
   "cell_type": "code",
   "execution_count": 12,
   "metadata": {},
   "outputs": [
    {
     "data": {
      "text/html": [
       "<div>\n",
       "<style scoped>\n",
       "    .dataframe tbody tr th:only-of-type {\n",
       "        vertical-align: middle;\n",
       "    }\n",
       "\n",
       "    .dataframe tbody tr th {\n",
       "        vertical-align: top;\n",
       "    }\n",
       "\n",
       "    .dataframe thead th {\n",
       "        text-align: right;\n",
       "    }\n",
       "</style>\n",
       "<table border=\"1\" class=\"dataframe\">\n",
       "  <thead>\n",
       "    <tr style=\"text-align: right;\">\n",
       "      <th></th>\n",
       "      <th>zonaprueba</th>\n",
       "      <th>zonaprueba_a</th>\n",
       "      <th>zonaprueba_b</th>\n",
       "      <th>zonaprueba_c</th>\n",
       "      <th>zonaprueba_d</th>\n",
       "      <th>zonaprueba_e</th>\n",
       "      <th>zonaprueba_f</th>\n",
       "    </tr>\n",
       "  </thead>\n",
       "  <tbody>\n",
       "    <tr>\n",
       "      <th>0</th>\n",
       "      <td>1</td>\n",
       "      <td>1</td>\n",
       "      <td>0</td>\n",
       "      <td>0</td>\n",
       "      <td>0</td>\n",
       "      <td>0</td>\n",
       "      <td>0</td>\n",
       "    </tr>\n",
       "    <tr>\n",
       "      <th>1</th>\n",
       "      <td>2</td>\n",
       "      <td>0</td>\n",
       "      <td>1</td>\n",
       "      <td>0</td>\n",
       "      <td>0</td>\n",
       "      <td>0</td>\n",
       "      <td>0</td>\n",
       "    </tr>\n",
       "    <tr>\n",
       "      <th>2</th>\n",
       "      <td>3</td>\n",
       "      <td>0</td>\n",
       "      <td>0</td>\n",
       "      <td>1</td>\n",
       "      <td>0</td>\n",
       "      <td>0</td>\n",
       "      <td>0</td>\n",
       "    </tr>\n",
       "    <tr>\n",
       "      <th>3</th>\n",
       "      <td>4</td>\n",
       "      <td>0</td>\n",
       "      <td>0</td>\n",
       "      <td>0</td>\n",
       "      <td>1</td>\n",
       "      <td>0</td>\n",
       "      <td>0</td>\n",
       "    </tr>\n",
       "    <tr>\n",
       "      <th>4</th>\n",
       "      <td>5</td>\n",
       "      <td>0</td>\n",
       "      <td>0</td>\n",
       "      <td>0</td>\n",
       "      <td>0</td>\n",
       "      <td>1</td>\n",
       "      <td>0</td>\n",
       "    </tr>\n",
       "    <tr>\n",
       "      <th>5</th>\n",
       "      <td>6</td>\n",
       "      <td>0</td>\n",
       "      <td>0</td>\n",
       "      <td>0</td>\n",
       "      <td>0</td>\n",
       "      <td>0</td>\n",
       "      <td>1</td>\n",
       "    </tr>\n",
       "  </tbody>\n",
       "</table>\n",
       "</div>"
      ],
      "text/plain": [
       "   zonaprueba  zonaprueba_a  zonaprueba_b  zonaprueba_c  zonaprueba_d   \n",
       "0           1             1             0             0             0  \\\n",
       "1           2             0             1             0             0   \n",
       "2           3             0             0             1             0   \n",
       "3           4             0             0             0             1   \n",
       "4           5             0             0             0             0   \n",
       "5           6             0             0             0             0   \n",
       "\n",
       "   zonaprueba_e  zonaprueba_f  \n",
       "0             0             0  \n",
       "1             0             0  \n",
       "2             0             0  \n",
       "3             0             0  \n",
       "4             1             0  \n",
       "5             0             1  "
      ]
     },
     "execution_count": 12,
     "metadata": {},
     "output_type": "execute_result"
    },
    {
     "ename": "",
     "evalue": "",
     "output_type": "error",
     "traceback": [
      "\u001b[1;31mThe Kernel crashed while executing code in the the current cell or a previous cell. Please review the code in the cell(s) to identify a possible cause of the failure. Click <a href='https://aka.ms/vscodeJupyterKernelCrash'>here</a> for more info. View Jupyter <a href='command:jupyter.viewOutput'>log</a> for further details."
     ]
    }
   ],
   "source": [
    "df_filtrado"
   ]
  }
 ],
 "metadata": {
  "kernelspec": {
   "display_name": "Python 3",
   "language": "python",
   "name": "python3"
  },
  "language_info": {
   "codemirror_mode": {
    "name": "ipython",
    "version": 3
   },
   "file_extension": ".py",
   "mimetype": "text/x-python",
   "name": "python",
   "nbconvert_exporter": "python",
   "pygments_lexer": "ipython3",
   "version": "3.9.13 (tags/v3.9.13:6de2ca5, May 17 2022, 16:36:42) [MSC v.1929 64 bit (AMD64)]"
  },
  "orig_nbformat": 4,
  "vscode": {
   "interpreter": {
    "hash": "15b0b646c21b8f80a20ac3ca0b6c440335a0ab8e0aad88dec1cfe0fc1eea5a42"
   }
  }
 },
 "nbformat": 4,
 "nbformat_minor": 2
}
